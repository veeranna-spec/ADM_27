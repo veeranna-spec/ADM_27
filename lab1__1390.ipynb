{
  "nbformat": 4,
  "nbformat_minor": 0,
  "metadata": {
    "colab": {
      "provenance": [],
      "include_colab_link": true
    },
    "kernelspec": {
      "name": "python3",
      "display_name": "Python 3"
    },
    "language_info": {
      "name": "python"
    }
  },
  "cells": [
    {
      "cell_type": "markdown",
      "metadata": {
        "id": "view-in-github",
        "colab_type": "text"
      },
      "source": [
        "<a href=\"https://colab.research.google.com/github/veeranna-spec/ADM_27/blob/main/lab1__1390.ipynb\" target=\"_parent\"><img src=\"https://colab.research.google.com/assets/colab-badge.svg\" alt=\"Open In Colab\"/></a>"
      ]
    },
    {
      "cell_type": "code",
      "source": [
        "from google.colab import drive\n",
        "drive.mount('/content/drive')"
      ],
      "metadata": {
        "colab": {
          "base_uri": "https://localhost:8080/"
        },
        "id": "ZcMe65A9TjEq",
        "outputId": "d55fc70c-033c-48b9-967b-b8e098ab2df1"
      },
      "execution_count": null,
      "outputs": [
        {
          "output_type": "stream",
          "name": "stdout",
          "text": [
            "Mounted at /content/drive\n"
          ]
        }
      ]
    },
    {
      "cell_type": "code",
      "execution_count": null,
      "metadata": {
        "colab": {
          "base_uri": "https://localhost:8080/"
        },
        "id": "iR7G8ZX1Q4PE",
        "outputId": "498bc134-c7fa-4518-923c-3d59a6e88f20"
      },
      "outputs": [
        {
          "output_type": "stream",
          "name": "stdout",
          "text": [
            "Enter the name of the file with .txt extension:t.txt\n",
            "kranthi \n",
            "\n",
            "ram\n",
            "\n",
            "sri ram\n",
            "\n",
            "sai teja\n",
            "\n",
            "rohan\n",
            "\n",
            "oavan\n",
            "\n",
            "beena\n",
            "\n",
            "\n",
            "\n"
          ]
        }
      ],
      "source": [
        "a=str(input(\"Enter the name of the file with .txt extension:\"))\n",
        "file2=open(a,'r')\n",
        "line=file2.readline()\n",
        "while(line!=\"\"):\n",
        "    print(line)\n",
        "    line=file2.readline()\n",
        "file2.close()"
      ]
    },
    {
      "cell_type": "code",
      "source": [
        "with open(\"t.txt\") as f:\n",
        "    with open(\"kranthi.txt\", \"w\") as f1:\n",
        "        for line in f:\n",
        "            f1.write(line)"
      ],
      "metadata": {
        "id": "GQRSh5K9ThzG"
      },
      "execution_count": null,
      "outputs": []
    },
    {
      "cell_type": "code",
      "source": [
        "fname = input(\"Enter file name: \")\n",
        "num_lines = 0\n",
        "with open(fname, 'r') as f:\n",
        "    for line in f:\n",
        "        num_lines += 1\n",
        "print(\"Number of lines:\")\n",
        "print(num_lines)"
      ],
      "metadata": {
        "colab": {
          "base_uri": "https://localhost:8080/"
        },
        "id": "JNLgZ-UVWDc2",
        "outputId": "38f78fab-de0a-43ee-e329-0e7673be62f3"
      },
      "execution_count": null,
      "outputs": [
        {
          "output_type": "stream",
          "name": "stdout",
          "text": [
            "Enter file name: t.txt\n",
            "Number of lines:\n",
            "8\n"
          ]
        }
      ]
    },
    {
      "cell_type": "code",
      "source": [
        "fname = input(\"Enter file name: \")\n",
        "k = 0\n",
        "\n",
        "with open(fname, 'r') as f:\n",
        "    for line in f:\n",
        "        words = line.split()\n",
        "        for i in words:\n",
        "            for letter in i:\n",
        "                if(letter.isspace):\n",
        "                    k=k+1\n",
        "print(\"Occurrences of blank spaces:\")\n",
        "print(k)"
      ],
      "metadata": {
        "colab": {
          "base_uri": "https://localhost:8080/"
        },
        "id": "umLX39VNWL49",
        "outputId": "5f69b37f-cd4b-4c1e-f737-95168880ac02"
      },
      "execution_count": null,
      "outputs": [
        {
          "output_type": "stream",
          "name": "stdout",
          "text": [
            "Enter file name: t.txt\n",
            "Occurrences of blank spaces:\n",
            "38\n"
          ]
        }
      ]
    },
    {
      "cell_type": "code",
      "source": [
        "fname = input(\"Enter file name: \")\n",
        "word=input(\"Enter word to be searched:\")\n",
        "k = 0\n",
        "\n",
        "with open(fname, 'r') as f:\n",
        "    for line in f:\n",
        "        words = line.split()\n",
        "        for i in words:\n",
        "            if(i==word):\n",
        "                k=k+1\n",
        "print(\"Occurrences of the word:\")\n",
        "print(k)"
      ],
      "metadata": {
        "colab": {
          "base_uri": "https://localhost:8080/"
        },
        "id": "BYeQgs0YWi6j",
        "outputId": "5769796c-adea-4c83-9554-13d055d8c1ae"
      },
      "execution_count": null,
      "outputs": [
        {
          "output_type": "stream",
          "name": "stdout",
          "text": [
            "Enter file name: t.txt\n",
            "Enter word to be searched:beena\n",
            "Occurrences of the word:\n",
            "1\n"
          ]
        }
      ]
    },
    {
      "cell_type": "code",
      "source": [
        "fname = input(\"Enter file name: \")\n",
        "\n",
        "num_words = 0\n",
        "\n",
        "with open(fname, 'r') as f:\n",
        "    for line in f:\n",
        "        words = line.split()\n",
        "        num_words += len(words)\n",
        "print(\"Number of words:\")\n",
        "print(num_words)"
      ],
      "metadata": {
        "colab": {
          "base_uri": "https://localhost:8080/"
        },
        "id": "Y-CXx722WrgS",
        "outputId": "0abb407e-e9a6-4b51-a581-1b5bc7fbce53"
      },
      "execution_count": null,
      "outputs": [
        {
          "output_type": "stream",
          "name": "stdout",
          "text": [
            "Enter file name: t.txt\n",
            "Number of words:\n",
            "9\n"
          ]
        }
      ]
    },
    {
      "cell_type": "code",
      "source": [
        "fname = input(\"Enter file name: \")\n",
        "\n",
        "with open(fname, 'r') as f:\n",
        "    for line in f:\n",
        "        l=line.title()\n",
        "        print(l)"
      ],
      "metadata": {
        "colab": {
          "base_uri": "https://localhost:8080/"
        },
        "id": "0iY8Oas-Wxeh",
        "outputId": "a73bdf94-9416-4eed-9712-ccd1defc5880"
      },
      "execution_count": null,
      "outputs": [
        {
          "output_type": "stream",
          "name": "stdout",
          "text": [
            "Enter file name: t.txt\n",
            "Kranthi \n",
            "\n",
            "Ram\n",
            "\n",
            "Sri Ram\n",
            "\n",
            "Sai Teja\n",
            "\n",
            "Rohan\n",
            "\n",
            "Oavan\n",
            "\n",
            "Beena\n",
            "\n",
            "\n",
            "\n"
          ]
        }
      ]
    },
    {
      "cell_type": "code",
      "source": [
        "fname = input(\"Enter file name: \")\n",
        "l=input(\"Enter letter to be searched:\")\n",
        "k = 0\n",
        "\n",
        "with open(fname, 'r') as f:\n",
        "    for line in f:\n",
        "        words = line.split()\n",
        "        for i in words:\n",
        "            for letter in i:\n",
        "                if(letter==l):\n",
        "                    k=k+1\n",
        "print(\"Occurrences of the letter:\")\n",
        "print(k)"
      ],
      "metadata": {
        "colab": {
          "base_uri": "https://localhost:8080/"
        },
        "id": "XpG5Rw_TW-C3",
        "outputId": "963b7e41-f16b-4675-9d56-57e91cdefbe0"
      },
      "execution_count": null,
      "outputs": [
        {
          "output_type": "stream",
          "name": "stdout",
          "text": [
            "Enter file name: t.txt\n",
            "Enter letter to be searched:beena\n",
            "Occurrences of the letter:\n",
            "0\n"
          ]
        }
      ]
    },
    {
      "cell_type": "code",
      "source": [
        "fname = input(\"Enter file name: \")\n",
        "\n",
        "with open(fname, 'r') as f:\n",
        "    for line in f:\n",
        "        words = line.split()\n",
        "        for i in words:\n",
        "            for letter in i:\n",
        "                if(letter.isdigit()):\n",
        "                    print(letter)"
      ],
      "metadata": {
        "colab": {
          "base_uri": "https://localhost:8080/"
        },
        "id": "kOBPKe30XGpq",
        "outputId": "39c26913-2267-4ff1-c3a3-e75f2cc20033"
      },
      "execution_count": null,
      "outputs": [
        {
          "name": "stdout",
          "output_type": "stream",
          "text": [
            "Enter file name: t.txt\n"
          ]
        }
      ]
    },
    {
      "cell_type": "code",
      "source": [
        "filename=input(\"Enter file name: \")\n",
        "for line in reversed(list(open(filename))):\n",
        "    print(line.rstrip())\n"
      ],
      "metadata": {
        "colab": {
          "base_uri": "https://localhost:8080/"
        },
        "id": "TXad8wJ-XObT",
        "outputId": "15048221-f319-4f01-9f3b-42aba83824d8"
      },
      "execution_count": null,
      "outputs": [
        {
          "output_type": "stream",
          "name": "stdout",
          "text": [
            "Enter file name: t.txt\n",
            "\n",
            "beena\n",
            "oavan\n",
            "rohan\n",
            "sai teja\n",
            "sri ram\n",
            "ram\n",
            "kranthi\n"
          ]
        }
      ]
    },
    {
      "cell_type": "code",
      "source": [
        "name1 = input(\"Enter file to be read from: \")\n",
        "name2 = input(\"Enter file to be appended to: \")\n",
        "fin = open(name1, \"r\")\n",
        "data2 = fin.read()\n",
        "fin.close()\n",
        "fout = open(name2, \"a\")\n",
        "fout.write(data2)\n",
        "fout.close()"
      ],
      "metadata": {
        "colab": {
          "base_uri": "https://localhost:8080/"
        },
        "id": "XIqcCR7XXUmq",
        "outputId": "3c3abeda-2e05-49d7-8547-31a0df12b9f8"
      },
      "execution_count": null,
      "outputs": [
        {
          "name": "stdout",
          "output_type": "stream",
          "text": [
            "Enter file to be read from: t.txt\n",
            "Enter file to be appended to: kranthi.txt\n"
          ]
        }
      ]
    },
    {
      "cell_type": "code",
      "source": [
        "fname = input(\"Enter file name: \")\n",
        "file3=open(fname,\"a\")\n",
        "c=input(\"Enter string to append: \\n\");\n",
        "file3.write(\"\\n\")\n",
        "file3.write(c)\n",
        "file3.close()\n",
        "print(\"Contents of appended file:\");\n",
        "file4=open(fname,'r')\n",
        "line1=file4.readline()\n",
        "while(line1!=\"\"):\n",
        "    print(line1)\n",
        "    line1=file4.readline()\n",
        "file4.close()"
      ],
      "metadata": {
        "colab": {
          "base_uri": "https://localhost:8080/"
        },
        "id": "K3zxSV3RXb_p",
        "outputId": "97c8bebd-7115-40b4-caf6-4ba13befdc83"
      },
      "execution_count": null,
      "outputs": [
        {
          "output_type": "stream",
          "name": "stdout",
          "text": [
            "Enter file name: t.txt\n",
            "Enter string to append: \n",
            "Virat kholi\n",
            "Contents of appended file:\n",
            "kranthi \n",
            "\n",
            "ram\n",
            "\n",
            "sri ram\n",
            "\n",
            "sai teja\n",
            "\n",
            "rohan\n",
            "\n",
            "oavan\n",
            "\n",
            "beena\n",
            "\n",
            "\n",
            "\n",
            "\n",
            "\n",
            "Virat kholi\n"
          ]
        }
      ]
    }
  ]
}